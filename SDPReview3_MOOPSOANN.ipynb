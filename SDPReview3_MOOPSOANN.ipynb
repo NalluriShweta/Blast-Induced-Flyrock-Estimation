{
  "nbformat": 4,
  "nbformat_minor": 0,
  "metadata": {
    "colab": {
      "provenance": [],
      "gpuType": "T4"
    },
    "kernelspec": {
      "name": "python3",
      "display_name": "Python 3"
    },
    "language_info": {
      "name": "python"
    },
    "accelerator": "GPU"
  },
  "cells": [
    {
      "cell_type": "code",
      "execution_count": 13,
      "metadata": {
        "id": "yjqH9i9FEBhZ"
      },
      "outputs": [],
      "source": [
        "import pandas as pd\n",
        "import numpy as np\n",
        "from sklearn.preprocessing import MinMaxScaler\n",
        "from sklearn.metrics import mean_squared_error\n",
        "from sklearn.svm import SVR\n",
        "import matplotlib.pyplot as plt\n",
        "from sklearn.metrics import r2_score\n",
        "from sklearn.model_selection import train_test_split\n",
        "from pymoo.core.problem import ElementwiseProblem\n",
        "from sklearn.svm import SVR\n",
        "import pyswarms as ps\n",
        "from SwarmPackagePy import testFunctions as tf\n",
        "from sklearn.model_selection import train_test_split\n",
        "\n",
        "from keras.models import Sequential\n",
        "from keras.layers import Dense, Activation\n",
        "from keras.layers import Dropout, Flatten\n",
        "from keras.layers import Flatten"
      ]
    },
    {
      "cell_type": "code",
      "source": [
        "pip install pymoo"
      ],
      "metadata": {
        "colab": {
          "base_uri": "https://localhost:8080/"
        },
        "collapsed": true,
        "id": "V35GapZTEVgE",
        "outputId": "dc514ba8-7132-4446-c71c-5270762148d2"
      },
      "execution_count": 2,
      "outputs": [
        {
          "output_type": "stream",
          "name": "stdout",
          "text": [
            "Collecting pymoo\n",
            "  Downloading pymoo-0.6.1.1-cp310-cp310-manylinux_2_17_x86_64.manylinux2014_x86_64.whl (4.1 MB)\n",
            "\u001b[2K     \u001b[90m━━━━━━━━━━━━━━━━━━━━━━━━━━━━━━━━━━━━━━━━\u001b[0m \u001b[32m4.1/4.1 MB\u001b[0m \u001b[31m19.8 MB/s\u001b[0m eta \u001b[36m0:00:00\u001b[0m\n",
            "\u001b[?25hRequirement already satisfied: numpy>=1.15 in /usr/local/lib/python3.10/dist-packages (from pymoo) (1.25.2)\n",
            "Requirement already satisfied: scipy>=1.1 in /usr/local/lib/python3.10/dist-packages (from pymoo) (1.11.4)\n",
            "Requirement already satisfied: matplotlib>=3 in /usr/local/lib/python3.10/dist-packages (from pymoo) (3.7.1)\n",
            "Requirement already satisfied: autograd>=1.4 in /usr/local/lib/python3.10/dist-packages (from pymoo) (1.6.2)\n",
            "Collecting cma==3.2.2 (from pymoo)\n",
            "  Downloading cma-3.2.2-py2.py3-none-any.whl (249 kB)\n",
            "\u001b[2K     \u001b[90m━━━━━━━━━━━━━━━━━━━━━━━━━━━━━━━━━━━━━━━━\u001b[0m \u001b[32m249.1/249.1 kB\u001b[0m \u001b[31m32.4 MB/s\u001b[0m eta \u001b[36m0:00:00\u001b[0m\n",
            "\u001b[?25hCollecting alive-progress (from pymoo)\n",
            "  Downloading alive_progress-3.1.5-py3-none-any.whl (75 kB)\n",
            "\u001b[2K     \u001b[90m━━━━━━━━━━━━━━━━━━━━━━━━━━━━━━━━━━━━━━━━\u001b[0m \u001b[32m76.0/76.0 kB\u001b[0m \u001b[31m12.3 MB/s\u001b[0m eta \u001b[36m0:00:00\u001b[0m\n",
            "\u001b[?25hCollecting dill (from pymoo)\n",
            "  Downloading dill-0.3.8-py3-none-any.whl (116 kB)\n",
            "\u001b[2K     \u001b[90m━━━━━━━━━━━━━━━━━━━━━━━━━━━━━━━━━━━━━━━━\u001b[0m \u001b[32m116.3/116.3 kB\u001b[0m \u001b[31m17.2 MB/s\u001b[0m eta \u001b[36m0:00:00\u001b[0m\n",
            "\u001b[?25hCollecting Deprecated (from pymoo)\n",
            "  Downloading Deprecated-1.2.14-py2.py3-none-any.whl (9.6 kB)\n",
            "Requirement already satisfied: future>=0.15.2 in /usr/local/lib/python3.10/dist-packages (from autograd>=1.4->pymoo) (0.18.3)\n",
            "Requirement already satisfied: contourpy>=1.0.1 in /usr/local/lib/python3.10/dist-packages (from matplotlib>=3->pymoo) (1.2.1)\n",
            "Requirement already satisfied: cycler>=0.10 in /usr/local/lib/python3.10/dist-packages (from matplotlib>=3->pymoo) (0.12.1)\n",
            "Requirement already satisfied: fonttools>=4.22.0 in /usr/local/lib/python3.10/dist-packages (from matplotlib>=3->pymoo) (4.51.0)\n",
            "Requirement already satisfied: kiwisolver>=1.0.1 in /usr/local/lib/python3.10/dist-packages (from matplotlib>=3->pymoo) (1.4.5)\n",
            "Requirement already satisfied: packaging>=20.0 in /usr/local/lib/python3.10/dist-packages (from matplotlib>=3->pymoo) (24.0)\n",
            "Requirement already satisfied: pillow>=6.2.0 in /usr/local/lib/python3.10/dist-packages (from matplotlib>=3->pymoo) (9.4.0)\n",
            "Requirement already satisfied: pyparsing>=2.3.1 in /usr/local/lib/python3.10/dist-packages (from matplotlib>=3->pymoo) (3.1.2)\n",
            "Requirement already satisfied: python-dateutil>=2.7 in /usr/local/lib/python3.10/dist-packages (from matplotlib>=3->pymoo) (2.8.2)\n",
            "Collecting about-time==4.2.1 (from alive-progress->pymoo)\n",
            "  Downloading about_time-4.2.1-py3-none-any.whl (13 kB)\n",
            "Collecting grapheme==0.6.0 (from alive-progress->pymoo)\n",
            "  Downloading grapheme-0.6.0.tar.gz (207 kB)\n",
            "\u001b[2K     \u001b[90m━━━━━━━━━━━━━━━━━━━━━━━━━━━━━━━━━━━━━━━━\u001b[0m \u001b[32m207.3/207.3 kB\u001b[0m \u001b[31m25.7 MB/s\u001b[0m eta \u001b[36m0:00:00\u001b[0m\n",
            "\u001b[?25h  Preparing metadata (setup.py) ... \u001b[?25l\u001b[?25hdone\n",
            "Requirement already satisfied: wrapt<2,>=1.10 in /usr/local/lib/python3.10/dist-packages (from Deprecated->pymoo) (1.14.1)\n",
            "Requirement already satisfied: six>=1.5 in /usr/local/lib/python3.10/dist-packages (from python-dateutil>=2.7->matplotlib>=3->pymoo) (1.16.0)\n",
            "Building wheels for collected packages: grapheme\n",
            "  Building wheel for grapheme (setup.py) ... \u001b[?25l\u001b[?25hdone\n",
            "  Created wheel for grapheme: filename=grapheme-0.6.0-py3-none-any.whl size=210078 sha256=7862d92467de5aabb39a5eee89351c79280d622e6f859701ceb5be8e380d36cc\n",
            "  Stored in directory: /root/.cache/pip/wheels/01/e1/49/37e6bde9886439057450c494a79b0bef8bbe897a54aebfc757\n",
            "Successfully built grapheme\n",
            "Installing collected packages: grapheme, dill, Deprecated, cma, about-time, alive-progress, pymoo\n",
            "Successfully installed Deprecated-1.2.14 about-time-4.2.1 alive-progress-3.1.5 cma-3.2.2 dill-0.3.8 grapheme-0.6.0 pymoo-0.6.1.1\n"
          ]
        }
      ]
    },
    {
      "cell_type": "code",
      "source": [
        "!pip install pyswarms"
      ],
      "metadata": {
        "collapsed": true,
        "colab": {
          "base_uri": "https://localhost:8080/"
        },
        "id": "WT8Cr2UDEYxl",
        "outputId": "cdb7cf55-33a7-4820-a2d8-112ca787cc83"
      },
      "execution_count": 3,
      "outputs": [
        {
          "output_type": "stream",
          "name": "stdout",
          "text": [
            "Collecting pyswarms\n",
            "  Downloading pyswarms-1.3.0-py2.py3-none-any.whl (104 kB)\n",
            "\u001b[?25l     \u001b[90m━━━━━━━━━━━━━━━━━━━━━━━━━━━━━━━━━━━━━━━━\u001b[0m \u001b[32m0.0/104.1 kB\u001b[0m \u001b[31m?\u001b[0m eta \u001b[36m-:--:--\u001b[0m\r\u001b[2K     \u001b[90m━━━━━━━━━━━━━━━━━━━━━━━━━━━━━━━━━━━━━━━━\u001b[0m \u001b[32m104.1/104.1 kB\u001b[0m \u001b[31m3.7 MB/s\u001b[0m eta \u001b[36m0:00:00\u001b[0m\n",
            "\u001b[?25hRequirement already satisfied: scipy in /usr/local/lib/python3.10/dist-packages (from pyswarms) (1.11.4)\n",
            "Requirement already satisfied: numpy in /usr/local/lib/python3.10/dist-packages (from pyswarms) (1.25.2)\n",
            "Requirement already satisfied: matplotlib>=1.3.1 in /usr/local/lib/python3.10/dist-packages (from pyswarms) (3.7.1)\n",
            "Requirement already satisfied: attrs in /usr/local/lib/python3.10/dist-packages (from pyswarms) (23.2.0)\n",
            "Requirement already satisfied: tqdm in /usr/local/lib/python3.10/dist-packages (from pyswarms) (4.66.4)\n",
            "Requirement already satisfied: future in /usr/local/lib/python3.10/dist-packages (from pyswarms) (0.18.3)\n",
            "Requirement already satisfied: pyyaml in /usr/local/lib/python3.10/dist-packages (from pyswarms) (6.0.1)\n",
            "Requirement already satisfied: contourpy>=1.0.1 in /usr/local/lib/python3.10/dist-packages (from matplotlib>=1.3.1->pyswarms) (1.2.1)\n",
            "Requirement already satisfied: cycler>=0.10 in /usr/local/lib/python3.10/dist-packages (from matplotlib>=1.3.1->pyswarms) (0.12.1)\n",
            "Requirement already satisfied: fonttools>=4.22.0 in /usr/local/lib/python3.10/dist-packages (from matplotlib>=1.3.1->pyswarms) (4.51.0)\n",
            "Requirement already satisfied: kiwisolver>=1.0.1 in /usr/local/lib/python3.10/dist-packages (from matplotlib>=1.3.1->pyswarms) (1.4.5)\n",
            "Requirement already satisfied: packaging>=20.0 in /usr/local/lib/python3.10/dist-packages (from matplotlib>=1.3.1->pyswarms) (24.0)\n",
            "Requirement already satisfied: pillow>=6.2.0 in /usr/local/lib/python3.10/dist-packages (from matplotlib>=1.3.1->pyswarms) (9.4.0)\n",
            "Requirement already satisfied: pyparsing>=2.3.1 in /usr/local/lib/python3.10/dist-packages (from matplotlib>=1.3.1->pyswarms) (3.1.2)\n",
            "Requirement already satisfied: python-dateutil>=2.7 in /usr/local/lib/python3.10/dist-packages (from matplotlib>=1.3.1->pyswarms) (2.8.2)\n",
            "Requirement already satisfied: six>=1.5 in /usr/local/lib/python3.10/dist-packages (from python-dateutil>=2.7->matplotlib>=1.3.1->pyswarms) (1.16.0)\n",
            "Installing collected packages: pyswarms\n",
            "Successfully installed pyswarms-1.3.0\n"
          ]
        }
      ]
    },
    {
      "cell_type": "code",
      "source": [
        "!pip install SwarmPackagePy"
      ],
      "metadata": {
        "colab": {
          "base_uri": "https://localhost:8080/"
        },
        "collapsed": true,
        "id": "KGSq2a-zEbxH",
        "outputId": "5ec123a9-7316-4ab1-ae65-0610451de116"
      },
      "execution_count": 4,
      "outputs": [
        {
          "output_type": "stream",
          "name": "stdout",
          "text": [
            "Collecting SwarmPackagePy\n",
            "  Downloading SwarmPackagePy-1.0.0a5.tar.gz (12 kB)\n",
            "  Preparing metadata (setup.py) ... \u001b[?25l\u001b[?25hdone\n",
            "Requirement already satisfied: numpy in /usr/local/lib/python3.10/dist-packages (from SwarmPackagePy) (1.25.2)\n",
            "Requirement already satisfied: matplotlib>=2.0.0 in /usr/local/lib/python3.10/dist-packages (from SwarmPackagePy) (3.7.1)\n",
            "Requirement already satisfied: pandas in /usr/local/lib/python3.10/dist-packages (from SwarmPackagePy) (2.0.3)\n",
            "Requirement already satisfied: pytest in /usr/local/lib/python3.10/dist-packages (from SwarmPackagePy) (7.4.4)\n",
            "Requirement already satisfied: contourpy>=1.0.1 in /usr/local/lib/python3.10/dist-packages (from matplotlib>=2.0.0->SwarmPackagePy) (1.2.1)\n",
            "Requirement already satisfied: cycler>=0.10 in /usr/local/lib/python3.10/dist-packages (from matplotlib>=2.0.0->SwarmPackagePy) (0.12.1)\n",
            "Requirement already satisfied: fonttools>=4.22.0 in /usr/local/lib/python3.10/dist-packages (from matplotlib>=2.0.0->SwarmPackagePy) (4.51.0)\n",
            "Requirement already satisfied: kiwisolver>=1.0.1 in /usr/local/lib/python3.10/dist-packages (from matplotlib>=2.0.0->SwarmPackagePy) (1.4.5)\n",
            "Requirement already satisfied: packaging>=20.0 in /usr/local/lib/python3.10/dist-packages (from matplotlib>=2.0.0->SwarmPackagePy) (24.0)\n",
            "Requirement already satisfied: pillow>=6.2.0 in /usr/local/lib/python3.10/dist-packages (from matplotlib>=2.0.0->SwarmPackagePy) (9.4.0)\n",
            "Requirement already satisfied: pyparsing>=2.3.1 in /usr/local/lib/python3.10/dist-packages (from matplotlib>=2.0.0->SwarmPackagePy) (3.1.2)\n",
            "Requirement already satisfied: python-dateutil>=2.7 in /usr/local/lib/python3.10/dist-packages (from matplotlib>=2.0.0->SwarmPackagePy) (2.8.2)\n",
            "Requirement already satisfied: pytz>=2020.1 in /usr/local/lib/python3.10/dist-packages (from pandas->SwarmPackagePy) (2023.4)\n",
            "Requirement already satisfied: tzdata>=2022.1 in /usr/local/lib/python3.10/dist-packages (from pandas->SwarmPackagePy) (2024.1)\n",
            "Requirement already satisfied: iniconfig in /usr/local/lib/python3.10/dist-packages (from pytest->SwarmPackagePy) (2.0.0)\n",
            "Requirement already satisfied: pluggy<2.0,>=0.12 in /usr/local/lib/python3.10/dist-packages (from pytest->SwarmPackagePy) (1.5.0)\n",
            "Requirement already satisfied: exceptiongroup>=1.0.0rc8 in /usr/local/lib/python3.10/dist-packages (from pytest->SwarmPackagePy) (1.2.1)\n",
            "Requirement already satisfied: tomli>=1.0.0 in /usr/local/lib/python3.10/dist-packages (from pytest->SwarmPackagePy) (2.0.1)\n",
            "Requirement already satisfied: six>=1.5 in /usr/local/lib/python3.10/dist-packages (from python-dateutil>=2.7->matplotlib>=2.0.0->SwarmPackagePy) (1.16.0)\n",
            "Building wheels for collected packages: SwarmPackagePy\n",
            "  Building wheel for SwarmPackagePy (setup.py) ... \u001b[?25l\u001b[?25hdone\n",
            "  Created wheel for SwarmPackagePy: filename=SwarmPackagePy-1.0.0a5-py3-none-any.whl size=21160 sha256=a31047f8e01ff209d9b18dbf817039dd35a8194be054a3fea64c7e89a741a03b\n",
            "  Stored in directory: /root/.cache/pip/wheels/7b/a1/da/a4705dd3dc62b3e4e4b614c96f399d3a0ffa3cb04105813527\n",
            "Successfully built SwarmPackagePy\n",
            "Installing collected packages: SwarmPackagePy\n",
            "Successfully installed SwarmPackagePy-1.0.0a5\n"
          ]
        }
      ]
    },
    {
      "cell_type": "code",
      "source": [
        "from sklearn.metrics import mean_squared_error, mean_absolute_error\n",
        "\n",
        "def calculateMetrics(algorithm, predict, test_labels):\n",
        "    global scaler1\n",
        "    mse_error = mean_squared_error(test_labels, predict)\n",
        "    square_error = 1 - mse_error\n",
        "    mse_error = mean_squared_error(test_labels, predict)\n",
        "    rmse = np.sqrt(mse_error)\n",
        "    nrmse = rmse / (test_labels.max() - test_labels.min())\n",
        "    mae = mean_absolute_error(test_labels, predict)\n",
        "    mad = np.mean(np.abs(test_labels - predict))\n",
        "    vaf = 1 - (np.var(test_labels - predict) / np.var(test_labels))\n",
        "    predict = predict.reshape(-1, 1)\n",
        "    predict = scaler1.inverse_transform(predict)\n",
        "    test_label = scaler1.inverse_transform(test_labels)\n",
        "    predict = predict.ravel()\n",
        "    test_label = test_label.ravel()\n",
        "    print(\"MSE:\",str(mse_error))\n",
        "    print(\"R2:\",str(square_error))\n",
        "    print(\"RMSE:\", rmse)\n",
        "    print(\"NRMSE:\", nrmse)\n",
        "    print(\"MAE:\", mae)\n",
        "    print(\"MAD:\", mad)\n",
        "    print(\"VAF:\", vaf)\n",
        "\n",
        "    print()\n",
        "    for i in range(0, 10):\n",
        "        print(\"True Flyrock Distance:\", str(test_label[i]),\"Predicted Flyrock Distance\",str(predict[i]))\n",
        "    plt.figure(figsize=(5,3))\n",
        "    plt.plot(test_label, color = 'red', label = 'True Flyrock Distance')\n",
        "    plt.plot(predict, color = 'green', label = 'Predicted Flyrock Distance')\n",
        "    plt.title(algorithm+' Flyrock Distance Prediction Graph')\n",
        "    plt.xlabel('Test Data')\n",
        "    plt.ylabel('Prediction')\n",
        "    plt.legend()\n",
        "    plt.show()"
      ],
      "metadata": {
        "id": "0VLXOeC2EfbZ"
      },
      "execution_count": 38,
      "outputs": []
    },
    {
      "cell_type": "code",
      "source": [
        "dataset=pd.read_csv(\"/content/Dataset.csv\")"
      ],
      "metadata": {
        "id": "plQld9qkElc1"
      },
      "execution_count": 6,
      "outputs": []
    },
    {
      "cell_type": "code",
      "source": [
        "\n",
        "scaler = MinMaxScaler(feature_range = (0, 1))\n",
        "scaler1 = MinMaxScaler(feature_range = (0, 1))\n",
        "dataset.fillna(0, inplace=True)\n",
        "dataset = dataset.values\n",
        "X = dataset[2:dataset.shape[0],1:dataset.shape[1]-1]\n",
        "X = scaler.fit_transform(X)\n",
        "Y = dataset[2:dataset.shape[0]:,dataset.shape[1]-1]\n",
        "print(\"Processed & Normalized Features = \",str(X))"
      ],
      "metadata": {
        "colab": {
          "base_uri": "https://localhost:8080/"
        },
        "id": "TJwWmT2kEnHh",
        "outputId": "aa5f3b61-ff9f-4989-859f-f1057c6f0cf5"
      },
      "execution_count": 7,
      "outputs": [
        {
          "output_type": "stream",
          "name": "stdout",
          "text": [
            "Processed & Normalized Features =  [[0.         0.         0.05555556 0.19354839 0.         0.14492754]\n",
            " [0.         0.05263158 0.01851852 0.19354839 0.00970518 0.07246377]\n",
            " [0.         0.05263158 0.01851852 0.         0.00970518 0.        ]\n",
            " ...\n",
            " [1.         0.94736842 0.77777778 0.90322581 0.96117927 0.62318841]\n",
            " [1.         0.94736842 1.         0.80645161 0.96117927 0.53623188]\n",
            " [1.         0.94736842 0.96296296 0.83870968 0.96117927 0.97101449]]\n"
          ]
        }
      ]
    },
    {
      "cell_type": "code",
      "source": [
        "print(X)"
      ],
      "metadata": {
        "colab": {
          "base_uri": "https://localhost:8080/"
        },
        "id": "GZbjHJuzEoZh",
        "outputId": "31b47b9a-b53d-4462-e786-ebc0f405ed30"
      },
      "execution_count": 8,
      "outputs": [
        {
          "output_type": "stream",
          "name": "stdout",
          "text": [
            "[[0.         0.         0.05555556 0.19354839 0.         0.14492754]\n",
            " [0.         0.05263158 0.01851852 0.19354839 0.00970518 0.07246377]\n",
            " [0.         0.05263158 0.01851852 0.         0.00970518 0.        ]\n",
            " ...\n",
            " [1.         0.94736842 0.77777778 0.90322581 0.96117927 0.62318841]\n",
            " [1.         0.94736842 1.         0.80645161 0.96117927 0.53623188]\n",
            " [1.         0.94736842 0.96296296 0.83870968 0.96117927 0.97101449]]\n"
          ]
        }
      ]
    },
    {
      "cell_type": "code",
      "source": [
        "class MOO(ElementwiseProblem):\n",
        "    def __init__(self, features, target):\n",
        "        super().__init__(n_var=features.shape[1], n_obj=1)\n",
        "        self.features = features\n",
        "        self.target = target\n",
        "\n",
        "    def _evaluate(self, x):\n",
        "        y = np.dot(x, self.features)\n",
        "        return np.sum((y - self.target)**2)"
      ],
      "metadata": {
        "id": "Bb1Kks5lEqH6"
      },
      "execution_count": 14,
      "outputs": []
    },
    {
      "cell_type": "code",
      "source": [
        "def f_per_particle(m, alpha):\n",
        "    global X, Y, svm_cls\n",
        "    total_features = X.shape[1]\n",
        "    if np.count_nonzero(m) == 0:\n",
        "        X_subset = X\n",
        "    else:\n",
        "        X_subset = X[:,m==1]\n",
        "    svm_cls.fit(X_subset, Y)\n",
        "    P = (svm_cls.predict(X_subset) == Y).mean()\n",
        "    j = (alpha * (1.0 - P) + (1.0 - alpha) * (1 - (X_subset.shape[1] / total_features)))\n",
        "    return j"
      ],
      "metadata": {
        "id": "DI2dlpIxEsR1"
      },
      "execution_count": 15,
      "outputs": []
    },
    {
      "cell_type": "code",
      "source": [
        "def f(x, alpha=0.88):\n",
        "    n_particles = x.shape[0]\n",
        "    j = [f_per_particle(x[i], alpha) for i in range(n_particles)]\n",
        "    return np.array(j)"
      ],
      "metadata": {
        "id": "9FAyPEIJFQI4"
      },
      "execution_count": 16,
      "outputs": []
    },
    {
      "cell_type": "code",
      "source": [
        "def runPSO():\n",
        "    global X, Y, pso, svm_cls, scaler1\n",
        "    svm_cls = SVR()\n",
        "    print(\"Total features found in dataset before applying MOO Optimization & PSO Features Selection : \",str(X.shape[1]))\n",
        "    moo = MOO(X, Y)\n",
        "    X = moo.features\n",
        "    options = {'c1': 0.9, 'c2': 0.9, 'w':0.5, 'k': 5, 'p':2}\n",
        "    dimensions = X.shape[1]\n",
        "    optimizer = ps.discrete.BinaryPSO(n_particles=5, dimensions=dimensions, options=options)\n",
        "    cost, pso = optimizer.optimize(f, iters=10)\n",
        "    X = X[:,pso==1]\n",
        "    Y = Y.reshape(-1,1)\n",
        "    Y = scaler1.fit_transform(Y)\n",
        "    print(\"Total features found in dataset after applying MOO Optimization & PSO Features Selection : \",str(X.shape[1]))"
      ],
      "metadata": {
        "id": "I3b3BfJBFR36"
      },
      "execution_count": 17,
      "outputs": []
    },
    {
      "cell_type": "code",
      "source": [
        "def runHybrdiANN():\n",
        "    global X, Y\n",
        "    X_train, X_test, y_train, y_test = train_test_split(X, Y, test_size = 0.2)\n",
        "    #now train & plot ANN Crop Yield prediction graph\n",
        "    ann_model = Sequential()\n",
        "    # Adding the first hidden layer with 50 neurons\n",
        "    ann_model.add(Dense(50, input_shape=(X_train.shape[1],)))\n",
        "    ann_model.add(Activation('relu'))\n",
        "    ann_model.add(Dropout(0.2))\n",
        "\n",
        "    # Adding the second hidden layer with 50 neurons\n",
        "    ann_model.add(Dense(50))\n",
        "    ann_model.add(Activation('relu'))\n",
        "    ann_model.add(Dropout(0.2))\n",
        "\n",
        "    # Adding more hidden layers\n",
        "    ann_model.add(Dense(50))\n",
        "    ann_model.add(Activation('relu'))\n",
        "    ann_model.add(Dropout(0.2))\n",
        "\n",
        "    ann_model.add(Dense(50))\n",
        "    ann_model.add(Activation('relu'))\n",
        "    ann_model.add(Dropout(0.2))\n",
        "\n",
        "    ann_model.add(Dense(50))\n",
        "    ann_model.add(Activation('relu'))\n",
        "    ann_model.add(Dropout(0.2))\n",
        "\n",
        "    # Adding the output layer\n",
        "    ann_model.add(Dense(1))\n",
        "\n",
        "    ann_model.compile(optimizer='adam', loss='mean_squared_error')\n",
        "    ann_model.fit(X, Y, batch_size = 16, epochs = 50, validation_data=(X_test, y_test), verbose=2)\n",
        "    predict = ann_model.predict(X_test)\n",
        "    calculateMetrics(\"Hybrid Model\", predict, y_test)#call function to plot LSTM crop yield prediction"
      ],
      "metadata": {
        "id": "nATq7A-mFTGb"
      },
      "execution_count": 39,
      "outputs": []
    },
    {
      "cell_type": "code",
      "source": [
        "runPSO()"
      ],
      "metadata": {
        "colab": {
          "base_uri": "https://localhost:8080/"
        },
        "id": "2TWCZ_FUFU-H",
        "outputId": "225f4bb8-7ef0-4453-9f93-50db1d2e90b0"
      },
      "execution_count": 20,
      "outputs": [
        {
          "output_type": "stream",
          "name": "stderr",
          "text": [
            "2024-05-15 16:28:32,240 - pyswarms.discrete.binary - INFO - Optimize for 10 iters with {'c1': 0.9, 'c2': 0.9, 'w': 0.5, 'k': 5, 'p': 2}\n"
          ]
        },
        {
          "output_type": "stream",
          "name": "stdout",
          "text": [
            "Total features found in dataset before applying MOO Optimization & PSO Features Selection :  6\n"
          ]
        },
        {
          "output_type": "stream",
          "name": "stderr",
          "text": [
            "pyswarms.discrete.binary: 100%|██████████|10/10, best_cost=0.9\n",
            "2024-05-15 16:28:32,482 - pyswarms.discrete.binary - INFO - Optimization finished | best cost: 0.9, best pos: [1 1 0 1 1 1]\n"
          ]
        },
        {
          "output_type": "stream",
          "name": "stdout",
          "text": [
            "Total features found in dataset after applying MOO Optimization & PSO Features Selection :  5\n"
          ]
        }
      ]
    },
    {
      "cell_type": "code",
      "source": [
        "runHybrdiANN()"
      ],
      "metadata": {
        "colab": {
          "base_uri": "https://localhost:8080/",
          "height": 1000
        },
        "id": "s0Ubn8qVH8m8",
        "outputId": "64133bc2-c2f5-46af-e235-4b82a8ac54ff"
      },
      "execution_count": 40,
      "outputs": [
        {
          "output_type": "stream",
          "name": "stdout",
          "text": [
            "Epoch 1/50\n",
            "17/17 - 2s - loss: 0.1434 - val_loss: 0.0213 - 2s/epoch - 111ms/step\n",
            "Epoch 2/50\n",
            "17/17 - 0s - loss: 0.0470 - val_loss: 0.0442 - 100ms/epoch - 6ms/step\n",
            "Epoch 3/50\n",
            "17/17 - 0s - loss: 0.0333 - val_loss: 0.0187 - 86ms/epoch - 5ms/step\n",
            "Epoch 4/50\n",
            "17/17 - 0s - loss: 0.0336 - val_loss: 0.0353 - 97ms/epoch - 6ms/step\n",
            "Epoch 5/50\n",
            "17/17 - 0s - loss: 0.0287 - val_loss: 0.0199 - 104ms/epoch - 6ms/step\n",
            "Epoch 6/50\n",
            "17/17 - 0s - loss: 0.0279 - val_loss: 0.0368 - 88ms/epoch - 5ms/step\n",
            "Epoch 7/50\n",
            "17/17 - 0s - loss: 0.0256 - val_loss: 0.0227 - 86ms/epoch - 5ms/step\n",
            "Epoch 8/50\n",
            "17/17 - 0s - loss: 0.0260 - val_loss: 0.0313 - 97ms/epoch - 6ms/step\n",
            "Epoch 9/50\n",
            "17/17 - 0s - loss: 0.0237 - val_loss: 0.0321 - 83ms/epoch - 5ms/step\n",
            "Epoch 10/50\n",
            "17/17 - 0s - loss: 0.0228 - val_loss: 0.0230 - 86ms/epoch - 5ms/step\n",
            "Epoch 11/50\n",
            "17/17 - 0s - loss: 0.0218 - val_loss: 0.0228 - 102ms/epoch - 6ms/step\n",
            "Epoch 12/50\n",
            "17/17 - 0s - loss: 0.0235 - val_loss: 0.0397 - 104ms/epoch - 6ms/step\n",
            "Epoch 13/50\n",
            "17/17 - 0s - loss: 0.0214 - val_loss: 0.0276 - 87ms/epoch - 5ms/step\n",
            "Epoch 14/50\n",
            "17/17 - 0s - loss: 0.0210 - val_loss: 0.0282 - 100ms/epoch - 6ms/step\n",
            "Epoch 15/50\n",
            "17/17 - 0s - loss: 0.0198 - val_loss: 0.0330 - 83ms/epoch - 5ms/step\n",
            "Epoch 16/50\n",
            "17/17 - 0s - loss: 0.0211 - val_loss: 0.0251 - 108ms/epoch - 6ms/step\n",
            "Epoch 17/50\n",
            "17/17 - 0s - loss: 0.0179 - val_loss: 0.0306 - 89ms/epoch - 5ms/step\n",
            "Epoch 18/50\n",
            "17/17 - 0s - loss: 0.0197 - val_loss: 0.0327 - 99ms/epoch - 6ms/step\n",
            "Epoch 19/50\n",
            "17/17 - 0s - loss: 0.0160 - val_loss: 0.0297 - 99ms/epoch - 6ms/step\n",
            "Epoch 20/50\n",
            "17/17 - 0s - loss: 0.0168 - val_loss: 0.0281 - 85ms/epoch - 5ms/step\n",
            "Epoch 21/50\n",
            "17/17 - 0s - loss: 0.0196 - val_loss: 0.0207 - 98ms/epoch - 6ms/step\n",
            "Epoch 22/50\n",
            "17/17 - 0s - loss: 0.0187 - val_loss: 0.0417 - 101ms/epoch - 6ms/step\n",
            "Epoch 23/50\n",
            "17/17 - 0s - loss: 0.0163 - val_loss: 0.0201 - 100ms/epoch - 6ms/step\n",
            "Epoch 24/50\n",
            "17/17 - 0s - loss: 0.0193 - val_loss: 0.0307 - 87ms/epoch - 5ms/step\n",
            "Epoch 25/50\n",
            "17/17 - 0s - loss: 0.0171 - val_loss: 0.0226 - 81ms/epoch - 5ms/step\n",
            "Epoch 26/50\n",
            "17/17 - 0s - loss: 0.0185 - val_loss: 0.0201 - 93ms/epoch - 5ms/step\n",
            "Epoch 27/50\n",
            "17/17 - 0s - loss: 0.0212 - val_loss: 0.0263 - 89ms/epoch - 5ms/step\n",
            "Epoch 28/50\n",
            "17/17 - 0s - loss: 0.0168 - val_loss: 0.0375 - 101ms/epoch - 6ms/step\n",
            "Epoch 29/50\n",
            "17/17 - 0s - loss: 0.0184 - val_loss: 0.0221 - 92ms/epoch - 5ms/step\n",
            "Epoch 30/50\n",
            "17/17 - 0s - loss: 0.0162 - val_loss: 0.0218 - 100ms/epoch - 6ms/step\n",
            "Epoch 31/50\n",
            "17/17 - 0s - loss: 0.0142 - val_loss: 0.0389 - 99ms/epoch - 6ms/step\n",
            "Epoch 32/50\n",
            "17/17 - 0s - loss: 0.0203 - val_loss: 0.0258 - 88ms/epoch - 5ms/step\n",
            "Epoch 33/50\n",
            "17/17 - 0s - loss: 0.0159 - val_loss: 0.0275 - 87ms/epoch - 5ms/step\n",
            "Epoch 34/50\n",
            "17/17 - 0s - loss: 0.0151 - val_loss: 0.0251 - 91ms/epoch - 5ms/step\n",
            "Epoch 35/50\n",
            "17/17 - 0s - loss: 0.0145 - val_loss: 0.0354 - 93ms/epoch - 5ms/step\n",
            "Epoch 36/50\n",
            "17/17 - 0s - loss: 0.0145 - val_loss: 0.0256 - 89ms/epoch - 5ms/step\n",
            "Epoch 37/50\n",
            "17/17 - 0s - loss: 0.0160 - val_loss: 0.0307 - 99ms/epoch - 6ms/step\n",
            "Epoch 38/50\n",
            "17/17 - 0s - loss: 0.0170 - val_loss: 0.0399 - 143ms/epoch - 8ms/step\n",
            "Epoch 39/50\n",
            "17/17 - 0s - loss: 0.0149 - val_loss: 0.0232 - 133ms/epoch - 8ms/step\n",
            "Epoch 40/50\n",
            "17/17 - 0s - loss: 0.0171 - val_loss: 0.0352 - 132ms/epoch - 8ms/step\n",
            "Epoch 41/50\n",
            "17/17 - 0s - loss: 0.0166 - val_loss: 0.0332 - 149ms/epoch - 9ms/step\n",
            "Epoch 42/50\n",
            "17/17 - 0s - loss: 0.0156 - val_loss: 0.0255 - 130ms/epoch - 8ms/step\n",
            "Epoch 43/50\n",
            "17/17 - 0s - loss: 0.0155 - val_loss: 0.0320 - 130ms/epoch - 8ms/step\n",
            "Epoch 44/50\n",
            "17/17 - 0s - loss: 0.0155 - val_loss: 0.0236 - 131ms/epoch - 8ms/step\n",
            "Epoch 45/50\n",
            "17/17 - 0s - loss: 0.0155 - val_loss: 0.0309 - 129ms/epoch - 8ms/step\n",
            "Epoch 46/50\n",
            "17/17 - 0s - loss: 0.0164 - val_loss: 0.0203 - 134ms/epoch - 8ms/step\n",
            "Epoch 47/50\n",
            "17/17 - 0s - loss: 0.0132 - val_loss: 0.0302 - 130ms/epoch - 8ms/step\n",
            "Epoch 48/50\n",
            "17/17 - 0s - loss: 0.0143 - val_loss: 0.0204 - 136ms/epoch - 8ms/step\n",
            "Epoch 49/50\n",
            "17/17 - 0s - loss: 0.0165 - val_loss: 0.0285 - 127ms/epoch - 7ms/step\n",
            "Epoch 50/50\n",
            "17/17 - 0s - loss: 0.0166 - val_loss: 0.0297 - 135ms/epoch - 8ms/step\n"
          ]
        },
        {
          "output_type": "stream",
          "name": "stderr",
          "text": [
            "2024-05-15 16:43:13,598 - tensorflow - WARNING - 6 out of the last 11 calls to <function Model.make_predict_function.<locals>.predict_function at 0x7e857f513490> triggered tf.function retracing. Tracing is expensive and the excessive number of tracings could be due to (1) creating @tf.function repeatedly in a loop, (2) passing tensors with different shapes, (3) passing Python objects instead of tensors. For (1), please define your @tf.function outside of the loop. For (2), @tf.function has reduce_retracing=True option that can avoid unnecessary retracing. For (3), please refer to https://www.tensorflow.org/guide/function#controlling_retracing and https://www.tensorflow.org/api_docs/python/tf/function for  more details.\n"
          ]
        },
        {
          "output_type": "stream",
          "name": "stdout",
          "text": [
            "2/2 [==============================] - 0s 13ms/step\n",
            "MSE: 0.029734480978972952\n",
            "R2: 0.9702655190210271\n",
            "RMSE: 0.17243688984371341\n",
            "NRMSE: 0.1860503285155855\n",
            "MAE: 0.13745184423448384\n",
            "MAD: 0.13745184423448384\n",
            "VAF: 0.6976824163254001\n",
            "\n",
            "True Flyrock Distance: 0.27177700348432055 Predicted Flyrock Distance 0.2743122\n",
            "True Flyrock Distance: 0.43554006968641124 Predicted Flyrock Distance 0.344736\n",
            "True Flyrock Distance: 0.6027874564459931 Predicted Flyrock Distance 0.5036086\n",
            "True Flyrock Distance: 0.5121951219512195 Predicted Flyrock Distance 0.35262814\n",
            "True Flyrock Distance: 0.46341463414634154 Predicted Flyrock Distance 0.36692935\n",
            "True Flyrock Distance: 0.2752613240418119 Predicted Flyrock Distance 0.30159128\n",
            "True Flyrock Distance: 0.6724738675958188 Predicted Flyrock Distance 0.44922465\n",
            "True Flyrock Distance: 0.33797909407665505 Predicted Flyrock Distance 0.29223752\n",
            "True Flyrock Distance: 0.7038327526132404 Predicted Flyrock Distance 0.56491745\n",
            "True Flyrock Distance: 0.613240418118467 Predicted Flyrock Distance 0.40038723\n"
          ]
        },
        {
          "output_type": "display_data",
          "data": {
            "text/plain": [
              "<Figure size 500x300 with 1 Axes>"
            ],
            "image/png": "[encoded data removed]"
          },
          "metadata": {}
        }
      ]
    },
    {
      "cell_type": "code",
      "source": [],
      "metadata": {
        "id": "vkoecFpwIQPn"
      },
      "execution_count": null,
      "outputs": []
    }
  ]
}